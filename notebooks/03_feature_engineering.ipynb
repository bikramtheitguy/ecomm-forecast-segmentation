{
 "cells": [
  {
   "cell_type": "markdown",
   "id": "9c85ccb2",
   "metadata": {},
   "source": [
    "# 03_Feature_Engineering.ipynb\n",
    "\n",
    "## 1. Create 7‑day & 30‑day rolling order counts  \n",
    "## 2. Compute recency per customer  \n",
    "## 3. Save features to `data/processed/features.csv`\n"
   ]
  },
  {
   "cell_type": "code",
   "execution_count": 10,
   "id": "3ceedf10",
   "metadata": {},
   "outputs": [
    {
     "data": {
      "text/html": [
       "<div>\n",
       "<style scoped>\n",
       "    .dataframe tbody tr th:only-of-type {\n",
       "        vertical-align: middle;\n",
       "    }\n",
       "\n",
       "    .dataframe tbody tr th {\n",
       "        vertical-align: top;\n",
       "    }\n",
       "\n",
       "    .dataframe thead th {\n",
       "        text-align: right;\n",
       "    }\n",
       "</style>\n",
       "<table border=\"1\" class=\"dataframe\">\n",
       "  <thead>\n",
       "    <tr style=\"text-align: right;\">\n",
       "      <th></th>\n",
       "      <th>customer_id</th>\n",
       "      <th>order_date</th>\n",
       "      <th>orders_7d</th>\n",
       "    </tr>\n",
       "  </thead>\n",
       "  <tbody>\n",
       "    <tr>\n",
       "      <th>0</th>\n",
       "      <td>C001</td>\n",
       "      <td>2025-01-01</td>\n",
       "      <td>1.0</td>\n",
       "    </tr>\n",
       "    <tr>\n",
       "      <th>1</th>\n",
       "      <td>C001</td>\n",
       "      <td>2025-01-03</td>\n",
       "      <td>2.0</td>\n",
       "    </tr>\n",
       "    <tr>\n",
       "      <th>2</th>\n",
       "      <td>C002</td>\n",
       "      <td>2025-01-02</td>\n",
       "      <td>1.0</td>\n",
       "    </tr>\n",
       "  </tbody>\n",
       "</table>\n",
       "</div>"
      ],
      "text/plain": [
       "  customer_id order_date  orders_7d\n",
       "0        C001 2025-01-01        1.0\n",
       "1        C001 2025-01-03        2.0\n",
       "2        C002 2025-01-02        1.0"
      ]
     },
     "execution_count": 10,
     "metadata": {},
     "output_type": "execute_result"
    }
   ],
   "source": [
    "import pandas as pd\n",
    "\n",
    "# Load cleaned transactions\n",
    "df = pd.read_csv(\"../data/processed/cleaned_transactions.csv\")\n",
    "df['order_date'] = pd.to_datetime(df['order_date'])\n",
    "\n",
    "# 1️⃣ 7‑day rolling order count per customer\n",
    "rolling_7 = (\n",
    "    df\n",
    "    .set_index('order_date')\n",
    "    .groupby('customer_id')['order_id']\n",
    "    .rolling('7D')\n",
    "    .count()\n",
    "    .reset_index(name='orders_7d')\n",
    ")\n",
    "\n",
    "# Preview\n",
    "rolling_7.head()\n"
   ]
  },
  {
   "cell_type": "code",
   "execution_count": 11,
   "id": "21f71c8e",
   "metadata": {},
   "outputs": [
    {
     "data": {
      "text/html": [
       "<div>\n",
       "<style scoped>\n",
       "    .dataframe tbody tr th:only-of-type {\n",
       "        vertical-align: middle;\n",
       "    }\n",
       "\n",
       "    .dataframe tbody tr th {\n",
       "        vertical-align: top;\n",
       "    }\n",
       "\n",
       "    .dataframe thead th {\n",
       "        text-align: right;\n",
       "    }\n",
       "</style>\n",
       "<table border=\"1\" class=\"dataframe\">\n",
       "  <thead>\n",
       "    <tr style=\"text-align: right;\">\n",
       "      <th></th>\n",
       "      <th>customer_id</th>\n",
       "      <th>order_date</th>\n",
       "      <th>orders_30d</th>\n",
       "      <th>last_order_date</th>\n",
       "      <th>recency_days</th>\n",
       "    </tr>\n",
       "  </thead>\n",
       "  <tbody>\n",
       "    <tr>\n",
       "      <th>0</th>\n",
       "      <td>C001</td>\n",
       "      <td>2025-01-01</td>\n",
       "      <td>1.0</td>\n",
       "      <td>2025-01-03</td>\n",
       "      <td>104</td>\n",
       "    </tr>\n",
       "    <tr>\n",
       "      <th>1</th>\n",
       "      <td>C001</td>\n",
       "      <td>2025-01-03</td>\n",
       "      <td>2.0</td>\n",
       "      <td>2025-01-03</td>\n",
       "      <td>104</td>\n",
       "    </tr>\n",
       "    <tr>\n",
       "      <th>2</th>\n",
       "      <td>C002</td>\n",
       "      <td>2025-01-02</td>\n",
       "      <td>1.0</td>\n",
       "      <td>2025-01-02</td>\n",
       "      <td>105</td>\n",
       "    </tr>\n",
       "  </tbody>\n",
       "</table>\n",
       "</div>"
      ],
      "text/plain": [
       "  customer_id order_date  orders_30d last_order_date  recency_days\n",
       "0        C001 2025-01-01         1.0      2025-01-03           104\n",
       "1        C001 2025-01-03         2.0      2025-01-03           104\n",
       "2        C002 2025-01-02         1.0      2025-01-02           105"
      ]
     },
     "execution_count": 11,
     "metadata": {},
     "output_type": "execute_result"
    }
   ],
   "source": [
    "# 2️⃣ 30‑day rolling order count per customer\n",
    "rolling_30 = (\n",
    "    df\n",
    "    .set_index('order_date')\n",
    "    .groupby('customer_id')['order_id']\n",
    "    .rolling('30D')\n",
    "    .count()\n",
    "    .reset_index(name='orders_30d')\n",
    ")\n",
    "\n",
    "\n",
    "# 3️⃣ Customer recency: days since last order\n",
    "last_order = df.groupby('customer_id')['order_date'].max().reset_index()\n",
    "last_order.columns = ['customer_id', 'last_order_date']\n",
    "\n",
    "# Merge recency back onto rolling_30 for illustration\n",
    "recency = pd.merge(rolling_30, last_order, on='customer_id')\n",
    "recency['recency_days'] = (pd.Timestamp.today() - recency['last_order_date']).dt.days\n",
    "\n",
    "recency.head()\n"
   ]
  },
  {
   "cell_type": "code",
   "execution_count": 12,
   "id": "88eba780",
   "metadata": {},
   "outputs": [
    {
     "data": {
      "text/html": [
       "<div>\n",
       "<style scoped>\n",
       "    .dataframe tbody tr th:only-of-type {\n",
       "        vertical-align: middle;\n",
       "    }\n",
       "\n",
       "    .dataframe tbody tr th {\n",
       "        vertical-align: top;\n",
       "    }\n",
       "\n",
       "    .dataframe thead th {\n",
       "        text-align: right;\n",
       "    }\n",
       "</style>\n",
       "<table border=\"1\" class=\"dataframe\">\n",
       "  <thead>\n",
       "    <tr style=\"text-align: right;\">\n",
       "      <th></th>\n",
       "      <th>customer_id</th>\n",
       "      <th>order_date</th>\n",
       "      <th>orders_7d</th>\n",
       "      <th>orders_30d</th>\n",
       "      <th>last_order_date</th>\n",
       "      <th>recency_days</th>\n",
       "    </tr>\n",
       "  </thead>\n",
       "  <tbody>\n",
       "    <tr>\n",
       "      <th>0</th>\n",
       "      <td>C001</td>\n",
       "      <td>2025-01-01</td>\n",
       "      <td>1.0</td>\n",
       "      <td>1.0</td>\n",
       "      <td>2025-01-03</td>\n",
       "      <td>104</td>\n",
       "    </tr>\n",
       "    <tr>\n",
       "      <th>1</th>\n",
       "      <td>C001</td>\n",
       "      <td>2025-01-03</td>\n",
       "      <td>2.0</td>\n",
       "      <td>2.0</td>\n",
       "      <td>2025-01-03</td>\n",
       "      <td>104</td>\n",
       "    </tr>\n",
       "    <tr>\n",
       "      <th>2</th>\n",
       "      <td>C002</td>\n",
       "      <td>2025-01-02</td>\n",
       "      <td>1.0</td>\n",
       "      <td>1.0</td>\n",
       "      <td>2025-01-02</td>\n",
       "      <td>105</td>\n",
       "    </tr>\n",
       "  </tbody>\n",
       "</table>\n",
       "</div>"
      ],
      "text/plain": [
       "  customer_id order_date  orders_7d  orders_30d last_order_date  recency_days\n",
       "0        C001 2025-01-01        1.0         1.0      2025-01-03           104\n",
       "1        C001 2025-01-03        2.0         2.0      2025-01-03           104\n",
       "2        C002 2025-01-02        1.0         1.0      2025-01-02           105"
      ]
     },
     "execution_count": 12,
     "metadata": {},
     "output_type": "execute_result"
    }
   ],
   "source": [
    "# 4️⃣ Combine 7d & 30d features and recency\n",
    "feats = (\n",
    "    rolling_7\n",
    "    .merge(rolling_30, on=['customer_id','order_date'], how='outer')\n",
    "    .merge(last_order, on='customer_id', how='left')\n",
    ")\n",
    "feats['recency_days'] = (pd.Timestamp.today() - feats['last_order_date']).dt.days\n",
    "\n",
    "feats.head()\n"
   ]
  },
  {
   "cell_type": "code",
   "execution_count": 15,
   "id": "cbd6e8ba",
   "metadata": {},
   "outputs": [
    {
     "name": "stdout",
     "output_type": "stream",
     "text": [
      "Features saved to ../data/processed/features.csv\n"
     ]
    }
   ],
   "source": [
    "import os\n",
    "\n",
    "# Ensure the processed data folder exists\n",
    "os.makedirs(\"../data/processed\", exist_ok=True)\n",
    "\n",
    "# Persist the features DataFrame\n",
    "feats.to_csv(\"../data/processed/features.csv\", index=False)\n",
    "\n",
    "print(\"Features saved to ../data/processed/features.csv\")\n"
   ]
  }
 ],
 "metadata": {
  "kernelspec": {
   "display_name": "Python 3",
   "language": "python",
   "name": "python3"
  },
  "language_info": {
   "codemirror_mode": {
    "name": "ipython",
    "version": 3
   },
   "file_extension": ".py",
   "mimetype": "text/x-python",
   "name": "python",
   "nbconvert_exporter": "python",
   "pygments_lexer": "ipython3",
   "version": "3.12.1"
  }
 },
 "nbformat": 4,
 "nbformat_minor": 5
}
