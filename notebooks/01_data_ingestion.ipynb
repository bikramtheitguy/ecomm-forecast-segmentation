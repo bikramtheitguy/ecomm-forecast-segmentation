{
 "cells": [
  {
   "cell_type": "markdown",
   "id": "130ad79e",
   "metadata": {},
   "source": [
    "# 01_data_ingestion.ipynb\n",
    "\n",
    "## 1. Data Sources  \n",
    "## 2. Load into Pandas  \n",
    "## 3. Summary Statistics\n"
   ]
  },
  {
   "cell_type": "code",
   "execution_count": 1,
   "id": "bd49df8a",
   "metadata": {},
   "outputs": [
    {
     "name": "stdout",
     "output_type": "stream",
     "text": [
      "<class 'pandas.core.frame.DataFrame'>\n",
      "RangeIndex: 3 entries, 0 to 2\n",
      "Data columns (total 5 columns):\n",
      " #   Column       Non-Null Count  Dtype  \n",
      "---  ------       --------------  -----  \n",
      " 0   order_id     3 non-null      int64  \n",
      " 1   customer_id  3 non-null      object \n",
      " 2   order_date   3 non-null      object \n",
      " 3   price        3 non-null      float64\n",
      " 4   quantity     3 non-null      int64  \n",
      "dtypes: float64(1), int64(2), object(2)\n",
      "memory usage: 252.0+ bytes\n"
     ]
    }
   ],
   "source": [
    "import pandas as pd\n",
    "\n",
    "# 2️⃣ Load into Pandas\n",
    "df = pd.read_csv(\"../data/raw/transactions.csv\")\n",
    "df.head()\n",
    "df.info()\n"
   ]
  }
 ],
 "metadata": {
  "kernelspec": {
   "display_name": "Python 3",
   "language": "python",
   "name": "python3"
  },
  "language_info": {
   "codemirror_mode": {
    "name": "ipython",
    "version": 3
   },
   "file_extension": ".py",
   "mimetype": "text/x-python",
   "name": "python",
   "nbconvert_exporter": "python",
   "pygments_lexer": "ipython3",
   "version": "3.12.1"
  }
 },
 "nbformat": 4,
 "nbformat_minor": 5
}
