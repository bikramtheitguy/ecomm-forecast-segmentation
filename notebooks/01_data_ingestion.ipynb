{
  "cells": [
    {
      "cell_type": "markdown",
      "metadata": {},
      "source": [
        "# 01_data_ingestion.ipynb\n",
        "\n",
        "## 1. Data Sources\n",
        "## 2. Load into Pandas\n",
        "## 3. Summary Statistics"
      ]
    }
  ],
  "metadata": {},
  "nbformat": 4,
  "nbformat_minor": 5
}
