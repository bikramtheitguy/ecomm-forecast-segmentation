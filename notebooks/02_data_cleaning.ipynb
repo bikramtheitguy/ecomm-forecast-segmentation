{
 "cells": [
  {
   "cell_type": "markdown",
   "id": "a6b411f1",
   "metadata": {},
   "source": [
    "# 02_Data_Cleaning.ipynb\n",
    "\n",
    "## 1. Identify & quantify missing values  \n",
    "## 2. Define imputation strategies  \n",
    "## 3. Detect & handle outliers\n"
   ]
  },
  {
   "cell_type": "code",
   "execution_count": 4,
   "id": "77eecc78",
   "metadata": {},
   "outputs": [
    {
     "name": "stdout",
     "output_type": "stream",
     "text": [
      "Missing values per column:\n",
      " order_id       0\n",
      "customer_id    0\n",
      "order_date     0\n",
      "price          0\n",
      "quantity       0\n",
      "dtype: int64\n",
      "\n",
      "Outliers per numeric column (IQR method):\n",
      " order_id    0\n",
      "price       0\n",
      "quantity    0\n",
      "dtype: int64\n"
     ]
    }
   ],
   "source": [
    "import pandas as pd\n",
    "\n",
    "# Load raw data\n",
    "df = pd.read_csv(\"../data/raw/transactions.csv\")\n",
    "\n",
    "# 1️⃣ Quantify missing values\n",
    "print(\"Missing values per column:\\n\", df.isnull().sum())\n",
    "\n",
    "# 2️⃣ Select only numeric columns for outlier detection\n",
    "num_df = df.select_dtypes(include=\"number\")\n",
    "\n",
    "# 3️⃣ Compute IQR and flag outliers\n",
    "Q1 = num_df.quantile(0.25)\n",
    "Q3 = num_df.quantile(0.75)\n",
    "IQR = Q3 - Q1\n",
    "\n",
    "outliers = ((num_df < (Q1 - 1.5 * IQR)) | (num_df > (Q3 + 1.5 * IQR))).sum()\n",
    "print(\"\\nOutliers per numeric column (IQR method):\\n\", outliers)\n"
   ]
  },
  {
   "cell_type": "code",
   "execution_count": 5,
   "id": "bef6d231",
   "metadata": {},
   "outputs": [
    {
     "name": "stdout",
     "output_type": "stream",
     "text": [
      "\n",
      "Missing values after imputation:\n",
      " order_id       0\n",
      "customer_id    0\n",
      "order_date     0\n",
      "price          0\n",
      "quantity       0\n",
      "dtype: int64\n"
     ]
    },
    {
     "name": "stderr",
     "output_type": "stream",
     "text": [
      "/tmp/ipykernel_37659/851931473.py:17: FutureWarning: Series.fillna with 'method' is deprecated and will raise in a future version. Use obj.ffill() or obj.bfill() instead.\n",
      "  df['order_date'] = df['order_date'].fillna(method='ffill')\n"
     ]
    }
   ],
   "source": [
    "# 4️⃣ Define and apply imputation\n",
    "\n",
    "# Convert order_date to datetime\n",
    "df['order_date'] = pd.to_datetime(df['order_date'])\n",
    "\n",
    "# Imputation rules\n",
    "median_price = df['price'].median()\n",
    "median_qty   = df['quantity'].median()\n",
    "\n",
    "df['price']    = df['price'].fillna(median_price)\n",
    "df['quantity'] = df['quantity'].fillna(median_qty)\n",
    "\n",
    "# For customer_id, use a placeholder\n",
    "df['customer_id'] = df['customer_id'].fillna('UNKNOWN')\n",
    "\n",
    "# Forward‑fill any missing dates\n",
    "df['order_date'] = df['order_date'].fillna(method='ffill')\n",
    "\n",
    "# Verify no missing values remain\n",
    "print(\"\\nMissing values after imputation:\\n\", df.isnull().sum())\n"
   ]
  },
  {
   "cell_type": "code",
   "execution_count": 6,
   "id": "cff09950",
   "metadata": {},
   "outputs": [
    {
     "name": "stdout",
     "output_type": "stream",
     "text": [
      "Cleaned data written to ../data/processed/cleaned_transactions.csv\n"
     ]
    }
   ],
   "source": [
    "# 5️⃣ Save cleaned data\n",
    "import os\n",
    "\n",
    "os.makedirs(\"../data/processed\", exist_ok=True)\n",
    "clean_path = \"../data/processed/cleaned_transactions.csv\"\n",
    "df.to_csv(clean_path, index=False)\n",
    "\n",
    "print(f\"Cleaned data written to {clean_path}\")\n"
   ]
  }
 ],
 "metadata": {
  "kernelspec": {
   "display_name": "Python 3",
   "language": "python",
   "name": "python3"
  },
  "language_info": {
   "codemirror_mode": {
    "name": "ipython",
    "version": 3
   },
   "file_extension": ".py",
   "mimetype": "text/x-python",
   "name": "python",
   "nbconvert_exporter": "python",
   "pygments_lexer": "ipython3",
   "version": "3.12.1"
  }
 },
 "nbformat": 4,
 "nbformat_minor": 5
}
