{
 "cells": [
  {
   "cell_type": "markdown",
   "id": "70f92b23",
   "metadata": {},
   "source": [
    "# 05_Forecasting.ipynb\n",
    "\n",
    "## 1. Load features & segments  \n",
    "## 2. Prepare time series (daily aggregate sales)  \n",
    "## 3. Fit Prophet model  \n",
    "## 4. Evaluate simple metrics (MAE, MAPE)  \n",
    "## 5. Save forecast to `data/processed/forecast.csv`\n"
   ]
  },
  {
   "cell_type": "code",
   "execution_count": 1,
   "id": "7fdae747",
   "metadata": {},
   "outputs": [
    {
     "name": "stderr",
     "output_type": "stream",
     "text": [
      "/usr/local/python/3.12.1/lib/python3.12/site-packages/tqdm/auto.py:21: TqdmWarning: IProgress not found. Please update jupyter and ipywidgets. See https://ipywidgets.readthedocs.io/en/stable/user_install.html\n",
      "  from .autonotebook import tqdm as notebook_tqdm\n",
      "14:29:06 - cmdstanpy - INFO - Chain [1] start processing\n",
      "14:29:06 - cmdstanpy - INFO - Chain [1] done processing\n"
     ]
    },
    {
     "name": "stdout",
     "output_type": "stream",
     "text": [
      "MAE on training data: 3.35\n",
      "Forecast saved to ../data/processed/forecast.csv\n"
     ]
    }
   ],
   "source": [
    "import pandas as pd\n",
    "from prophet import Prophet\n",
    "\n",
    "# 1️⃣ Load cleaned transactions and segments\n",
    "df_clean = pd.read_csv(\"../data/processed/cleaned_transactions.csv\", parse_dates=[\"order_date\"])\n",
    "segments = pd.read_csv(\"../data/processed/customer_segments.csv\")\n",
    "\n",
    "# 2️⃣ Prepare daily aggregate sales\n",
    "daily = (\n",
    "    df_clean\n",
    "    .groupby(\"order_date\")[\"price\"]\n",
    "    .sum()\n",
    "    .reset_index(name=\"y\")\n",
    "    .rename(columns={\"order_date\": \"ds\"})\n",
    ")\n",
    "\n",
    "# 3️⃣ Fit Prophet model\n",
    "m = Prophet()\n",
    "m.fit(daily)\n",
    "\n",
    "# 4️⃣ Create a future dataframe and forecast\n",
    "future = m.make_future_dataframe(periods=30)  # next 30 days\n",
    "forecast = m.predict(future)\n",
    "\n",
    "# 5️⃣ Evaluate (using only the training period for simplicity)\n",
    "from sklearn.metrics import mean_absolute_error\n",
    "y_true = daily.set_index(\"ds\")[\"y\"]\n",
    "y_pred  = forecast.set_index(\"ds\")[\"yhat\"].loc[y_true.index]\n",
    "mae = mean_absolute_error(y_true, y_pred)\n",
    "print(f\"MAE on training data: {mae:.2f}\")\n",
    "\n",
    "# 6️⃣ Save forecast\n",
    "import os\n",
    "os.makedirs(\"../data/processed\", exist_ok=True)\n",
    "forecast[[\"ds\", \"yhat\", \"yhat_lower\", \"yhat_upper\"]] \\\n",
    "    .to_csv(\"../data/processed/forecast.csv\", index=False)\n",
    "print(\"Forecast saved to ../data/processed/forecast.csv\")\n"
   ]
  }
 ],
 "metadata": {
  "kernelspec": {
   "display_name": "Python 3",
   "language": "python",
   "name": "python3"
  },
  "language_info": {
   "codemirror_mode": {
    "name": "ipython",
    "version": 3
   },
   "file_extension": ".py",
   "mimetype": "text/x-python",
   "name": "python",
   "nbconvert_exporter": "python",
   "pygments_lexer": "ipython3",
   "version": "3.12.1"
  }
 },
 "nbformat": 4,
 "nbformat_minor": 5
}
